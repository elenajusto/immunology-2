{
 "cells": [
  {
   "cell_type": "code",
   "execution_count": 8,
   "metadata": {},
   "outputs": [],
   "source": [
    "import FlowCytometryTools\n",
    "from FlowCytometryTools import test_data_dir, test_data_file"
   ]
  },
  {
   "cell_type": "code",
   "execution_count": 9,
   "metadata": {},
   "outputs": [],
   "source": [
    "from FlowCytometryTools import FCMeasurement\n",
    "\n",
    "datafile=r\"pod17.fcs\"\n",
    "sample = FCMeasurement(ID='Test Sample', datafile=datafile)"
   ]
  },
  {
   "cell_type": "code",
   "execution_count": 10,
   "metadata": {},
   "outputs": [
    {
     "name": "stdout",
     "output_type": "stream",
     "text": [
      "('FSC-A', 'FSC-H', 'FSC-W', 'SSC-A', 'SSC-H', 'SSC-W', 'B220', 'CD3', 'CD4', 'CD11b', 'Ly6G', 'CD8', 'CD45', 'Time')\n"
     ]
    }
   ],
   "source": [
    "print(sample.channel_names)"
   ]
  },
  {
   "cell_type": "code",
   "execution_count": 11,
   "metadata": {},
   "outputs": [
    {
     "name": "stdout",
     "output_type": "stream",
     "text": [
      "                         $PnN    $PnR  $PnB    $PnE  $PnV  $PnG   $PnS\n",
      "Channel Number                                                        \n",
      "1                       FSC-A  262144    32  [0, 0]   560   1.0  FSC-A\n",
      "2                       FSC-H  262144    32  [0, 0]   560   1.0  FSC-H\n",
      "3                       FSC-W  262144    32  [0, 0]   560   1.0  FSC-W\n",
      "4                       SSC-A  262144    32  [0, 0]   356   1.0  SSC-A\n",
      "5                       SSC-H  262144    32  [0, 0]   356   1.0  SSC-H\n",
      "6                       SSC-W  262144    32  [0, 0]   356   1.0  SSC-W\n",
      "7                     BV421-A  262144    32  [0, 0]   403   1.0   B220\n",
      "8                     BV786-A  262144    32  [0, 0]   511   1.0    CD3\n",
      "9                     BB515-A  262144    32  [0, 0]   459   1.0    CD4\n",
      "10                       PE-A  262144    32  [0, 0]   438   1.0  CD11b\n",
      "11              PerCP-Cy5-5-A  262144    32  [0, 0]   588   1.0   Ly6G\n",
      "12                      APC-A  262144    32  [0, 0]   623   1.0    CD8\n",
      "13                  APC-Cy7-A  262144    32  [0, 0]   577   1.0   CD45\n",
      "14                       Time  262144    32  [0, 0]  None  0.01   Time\n"
     ]
    }
   ],
   "source": [
    "print(sample.channels)"
   ]
  }
 ],
 "metadata": {
  "kernelspec": {
   "display_name": "cytoflow-env",
   "language": "python",
   "name": "python3"
  },
  "language_info": {
   "codemirror_mode": {
    "name": "ipython",
    "version": 3
   },
   "file_extension": ".py",
   "mimetype": "text/x-python",
   "name": "python",
   "nbconvert_exporter": "python",
   "pygments_lexer": "ipython3",
   "version": "3.8.12"
  }
 },
 "nbformat": 4,
 "nbformat_minor": 2
}

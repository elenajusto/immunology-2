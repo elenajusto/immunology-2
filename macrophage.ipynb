{
 "cells": [
  {
   "cell_type": "markdown",
   "metadata": {},
   "source": [
    "# Experiment Analysis\n",
    "Testing the effect of anti-inflammatory compounds on macrophage function. "
   ]
  },
  {
   "cell_type": "markdown",
   "metadata": {},
   "source": [
    "# Cytometric Bead Assay (CBA) Details\n",
    "- Wells: A4 to H6\n",
    "\n",
    "- Drug A: Naproxen Sodium (Aleve) \n",
    "\n",
    "- Drug B: Quercetin\n",
    "\n",
    "- Cytometer: Cytometer 3\n",
    "\n",
    "- Formats: FCS and CSV\n",
    "\n",
    "![image.png](images/cba_layout.png)"
   ]
  },
  {
   "cell_type": "markdown",
   "metadata": {},
   "source": [
    "# Greiss Assay Nitric Testing Details\n",
    "- SX RK Bench 17"
   ]
  },
  {
   "cell_type": "markdown",
   "metadata": {},
   "source": [
    "# Libraries"
   ]
  },
  {
   "cell_type": "code",
   "execution_count": 2,
   "metadata": {},
   "outputs": [],
   "source": [
    "import FlowCytometryTools\n",
    "from FlowCytometryTools import test_data_dir, test_data_file\n",
    "from FlowCytometryTools import FCMeasurement"
   ]
  },
  {
   "cell_type": "markdown",
   "metadata": {},
   "source": [
    "# CBA Analysis"
   ]
  },
  {
   "cell_type": "markdown",
   "metadata": {},
   "source": [
    "## Load Samples"
   ]
  },
  {
   "cell_type": "code",
   "execution_count": 54,
   "metadata": {},
   "outputs": [],
   "source": [
    "from FlowCytometryTools import FCPlate\n",
    "from FlowCytometryTools import FCMeasurement\n",
    "import os\n",
    "import re"
   ]
  },
  {
   "cell_type": "markdown",
   "metadata": {},
   "source": [
    "### Preprocess Sample Files"
   ]
  },
  {
   "cell_type": "code",
   "execution_count": 24,
   "metadata": {},
   "outputs": [],
   "source": [
    "# Load one fcs file into samples\n",
    "sample = FCMeasurement(ID='Test', datafile='data_macrophage/CBA/fcs/mine/Specimen_002_Well_A04.fcs')"
   ]
  },
  {
   "cell_type": "code",
   "execution_count": 21,
   "metadata": {},
   "outputs": [
    {
     "name": "stdout",
     "output_type": "stream",
     "text": [
      "Renamed 'Specimen_002_D6_D06.fcs' to 'Specimen_002_Well_D06.fcs'\n",
      "Renamed 'Specimen_002_A4_A04.fcs' to 'Specimen_002_Well_A04.fcs'\n",
      "Renamed 'Specimen_002_G6_G06.fcs' to 'Specimen_002_Well_G06.fcs'\n",
      "Renamed 'Specimen_002_B4_B04.fcs' to 'Specimen_002_Well_B04.fcs'\n",
      "Renamed 'Specimen_002_C6_C06.fcs' to 'Specimen_002_Well_C06.fcs'\n",
      "Renamed 'Specimen_002_D5_D05.fcs' to 'Specimen_002_Well_D05.fcs'\n",
      "Renamed 'Specimen_002_F4_F04.fcs' to 'Specimen_002_Well_F04.fcs'\n",
      "Renamed 'Specimen_002_A6_A06.fcs' to 'Specimen_002_Well_A06.fcs'\n",
      "Renamed 'Specimen_002_H5_H05.fcs' to 'Specimen_002_Well_H05.fcs'\n",
      "Renamed 'Specimen_002_E6_E06.fcs' to 'Specimen_002_Well_E06.fcs'\n",
      "Renamed 'Specimen_002_B6_B06.fcs' to 'Specimen_002_Well_B06.fcs'\n",
      "Renamed 'Specimen_002_G4_G04.fcs' to 'Specimen_002_Well_G04.fcs'\n",
      "Renamed 'Specimen_002_D4_D04.fcs' to 'Specimen_002_Well_D04.fcs'\n",
      "Renamed 'Specimen_002_A5_A05.fcs' to 'Specimen_002_Well_A05.fcs'\n",
      "Renamed 'Specimen_002_G5_G05.fcs' to 'Specimen_002_Well_G05.fcs'\n",
      "Renamed 'Specimen_002_F5_F05.fcs' to 'Specimen_002_Well_F05.fcs'\n",
      "Renamed 'Specimen_002_H6_H06.fcs' to 'Specimen_002_Well_H06.fcs'\n",
      "Renamed 'Specimen_002_E4_E04.fcs' to 'Specimen_002_Well_E04.fcs'\n",
      "Renamed 'Specimen_002_C4_C04.fcs' to 'Specimen_002_Well_C04.fcs'\n",
      "Renamed 'Specimen_002_F6_F06.fcs' to 'Specimen_002_Well_F06.fcs'\n",
      "Renamed 'Specimen_002_E5_E05.fcs' to 'Specimen_002_Well_E05.fcs'\n",
      "Renamed 'Specimen_002_H4_H04.fcs' to 'Specimen_002_Well_H04.fcs'\n",
      "Renamed 'Specimen_002_B5_B05.fcs' to 'Specimen_002_Well_B05.fcs'\n",
      "Renamed 'Specimen_002_C5_C05.fcs' to 'Specimen_002_Well_C05.fcs'\n"
     ]
    }
   ],
   "source": [
    "\"\"\"\n",
    "# Function to rename files in the directory\n",
    "def rename_fcs_files(directory):\n",
    "    # Regex pattern to match the current file names and extract well key (e.g., A04, B05)\n",
    "    pattern = re.compile(r\"Specimen_002_([A-H]\\d+)_([A-H]\\d+)\\.fcs\")\n",
    "\n",
    "    # Iterate through all files in the directory\n",
    "    for filename in os.listdir(directory):\n",
    "        if filename.endswith(\".fcs\"):\n",
    "            match = pattern.match(filename)\n",
    "            if match:\n",
    "                # Extract the well key\n",
    "                well_key = match.group(2)\n",
    "                # Form the new filename\n",
    "                new_filename = f\"Specimen_002_Well_{well_key}.fcs\"\n",
    "                # Full paths for renaming\n",
    "                old_file = os.path.join(directory, filename)\n",
    "                new_file = os.path.join(directory, new_filename)\n",
    "\n",
    "                # Rename the file\n",
    "                os.rename(old_file, new_file)\n",
    "                print(f\"Renamed '{filename}' to '{new_filename}'\")\n",
    "\n",
    "# Specify the directory where your FCS files are located\n",
    "fcs_directory = \"data_macrophage/CBA/fcs/mine\"\n",
    "\n",
    "# Call the rename function\n",
    "rename_fcs_files(fcs_directory)\n",
    "\"\"\""
   ]
  },
  {
   "cell_type": "markdown",
   "metadata": {},
   "source": [
    "### Load sample files into plate object"
   ]
  },
  {
   "cell_type": "code",
   "execution_count": 88,
   "metadata": {},
   "outputs": [],
   "source": [
    "# Load all FCS files into plate\n",
    "plate = FCPlate.from_dir(ID='Plate', path=\"data_macrophage/CBA/fcs/mine\", parser='name')"
   ]
  },
  {
   "cell_type": "markdown",
   "metadata": {},
   "source": [
    "### Output plate"
   ]
  },
  {
   "cell_type": "code",
   "execution_count": 89,
   "metadata": {},
   "outputs": [
    {
     "name": "stdout",
     "output_type": "stream",
     "text": [
      "ID:\n",
      "Plate\n",
      "\n",
      "Data:\n",
      "  1  2  3    4    5    6  7  8  9  10 11 12\n",
      "A           A04  A05  A06                  \n",
      "B           B04  B05  B06                  \n",
      "C           C04  C05  C06                  \n",
      "D           D04  D05  D06                  \n",
      "E           E04  E05  E06                  \n",
      "F           F04  F05  F06                  \n",
      "G           G04  G05  G06                  \n",
      "H           H04  H05  H06                  \n"
     ]
    }
   ],
   "source": [
    "# Visualise plate\n",
    "print(plate)"
   ]
  },
  {
   "cell_type": "markdown",
   "metadata": {},
   "source": [
    "### Output channels"
   ]
  },
  {
   "cell_type": "code",
   "execution_count": 90,
   "metadata": {},
   "outputs": [
    {
     "name": "stdout",
     "output_type": "stream",
     "text": [
      "Channels for well H06: ('FSC-A', 'FSC-W', 'SSC-A', 'SSC-W', 'PE-A', 'APC-A', 'APC-Cy7-A', 'Time')\n",
      "Channels for well E05: ('FSC-A', 'FSC-W', 'SSC-A', 'SSC-W', 'PE-A', 'APC-A', 'APC-Cy7-A', 'Time')\n",
      "Channels for well E06: ('FSC-A', 'FSC-W', 'SSC-A', 'SSC-W', 'PE-A', 'APC-A', 'APC-Cy7-A', 'Time')\n",
      "Channels for well G06: ('FSC-A', 'FSC-W', 'SSC-A', 'SSC-W', 'PE-A', 'APC-A', 'APC-Cy7-A', 'Time')\n",
      "Channels for well D04: ('FSC-A', 'FSC-W', 'SSC-A', 'SSC-W', 'PE-A', 'APC-A', 'APC-Cy7-A', 'Time')\n",
      "Channels for well B06: ('FSC-A', 'FSC-W', 'SSC-A', 'SSC-W', 'PE-A', 'APC-A', 'APC-Cy7-A', 'Time')\n",
      "Channels for well D05: ('FSC-A', 'FSC-W', 'SSC-A', 'SSC-W', 'PE-A', 'APC-A', 'APC-Cy7-A', 'Time')\n",
      "Channels for well F06: ('FSC-A', 'FSC-W', 'SSC-A', 'SSC-W', 'PE-A', 'APC-A', 'APC-Cy7-A', 'Time')\n",
      "Channels for well A06: ('FSC-A', 'FSC-W', 'SSC-A', 'SSC-W', 'PE-A', 'APC-A', 'APC-Cy7-A', 'Time')\n",
      "Channels for well H04: ('FSC-A', 'FSC-W', 'SSC-A', 'SSC-W', 'PE-A', 'APC-A', 'APC-Cy7-A', 'Time')\n",
      "Channels for well G04: ('FSC-A', 'FSC-W', 'SSC-A', 'SSC-W', 'PE-A', 'APC-A', 'APC-Cy7-A', 'Time')\n",
      "Channels for well B04: ('FSC-A', 'FSC-W', 'SSC-A', 'SSC-W', 'PE-A', 'APC-A', 'APC-Cy7-A', 'Time')\n",
      "Channels for well F05: ('FSC-A', 'FSC-W', 'SSC-A', 'SSC-W', 'PE-A', 'APC-A', 'APC-Cy7-A', 'Time')\n",
      "Channels for well C06: ('FSC-A', 'FSC-W', 'SSC-A', 'SSC-W', 'PE-A', 'APC-A', 'APC-Cy7-A', 'Time')\n",
      "Channels for well B05: ('FSC-A', 'FSC-W', 'SSC-A', 'SSC-W', 'PE-A', 'APC-A', 'APC-Cy7-A', 'Time')\n",
      "Channels for well C05: ('FSC-A', 'FSC-W', 'SSC-A', 'SSC-W', 'PE-A', 'APC-A', 'APC-Cy7-A', 'Time')\n",
      "Channels for well H05: ('FSC-A', 'FSC-W', 'SSC-A', 'SSC-W', 'PE-A', 'APC-A', 'APC-Cy7-A', 'Time')\n",
      "Channels for well F04: ('FSC-A', 'FSC-W', 'SSC-A', 'SSC-W', 'PE-A', 'APC-A', 'APC-Cy7-A', 'Time')\n",
      "Channels for well D06: ('FSC-A', 'FSC-W', 'SSC-A', 'SSC-W', 'PE-A', 'APC-A', 'APC-Cy7-A', 'Time')\n",
      "Channels for well A04: ('FSC-A', 'FSC-W', 'SSC-A', 'SSC-W', 'PE-A', 'APC-A', 'APC-Cy7-A', 'Time')\n",
      "Channels for well C04: ('FSC-A', 'FSC-W', 'SSC-A', 'SSC-W', 'PE-A', 'APC-A', 'APC-Cy7-A', 'Time')\n",
      "Channels for well G05: ('FSC-A', 'FSC-W', 'SSC-A', 'SSC-W', 'PE-A', 'APC-A', 'APC-Cy7-A', 'Time')\n",
      "Channels for well E04: ('FSC-A', 'FSC-W', 'SSC-A', 'SSC-W', 'PE-A', 'APC-A', 'APC-Cy7-A', 'Time')\n",
      "Channels for well A05: ('FSC-A', 'FSC-W', 'SSC-A', 'SSC-W', 'PE-A', 'APC-A', 'APC-Cy7-A', 'Time')\n"
     ]
    }
   ],
   "source": [
    "# Visualise channels\n",
    "for well, sample in plate.items():\n",
    "    print(f\"Channels for well {well}: {sample.channel_names}\")\n"
   ]
  },
  {
   "cell_type": "markdown",
   "metadata": {},
   "source": [
    "### Preprocess plate object"
   ]
  },
  {
   "cell_type": "code",
   "execution_count": 91,
   "metadata": {},
   "outputs": [],
   "source": [
    "# Drop empty wells\n",
    "plate = plate.dropna()"
   ]
  },
  {
   "cell_type": "code",
   "execution_count": 92,
   "metadata": {},
   "outputs": [
    {
     "name": "stderr",
     "output_type": "stream",
     "text": [
      "/home/elena/miniconda3/envs/cytoflow-env/lib/python3.8/site-packages/FlowCytometryTools/core/transforms.py:180: RuntimeWarning: divide by zero encountered in log10\n",
      "  lxmin = max([log10(abs(xmin)), 0])\n"
     ]
    }
   ],
   "source": [
    "# Transform to see Forward Scatter and Side Scatter\n",
    "plate = plate.transform('hlog', channels=['FSC-A', 'SSC-A'])"
   ]
  },
  {
   "cell_type": "markdown",
   "metadata": {},
   "source": [
    "### Graph Channels"
   ]
  },
  {
   "cell_type": "code",
   "execution_count": null,
   "metadata": {},
   "outputs": [],
   "source": [
    "# Visualise\n",
    "from pylab import *"
   ]
  },
  {
   "cell_type": "markdown",
   "metadata": {},
   "source": [
    "#### Forward Scatter Area (FSC-A)"
   ]
  },
  {
   "cell_type": "code",
   "execution_count": 100,
   "metadata": {},
   "outputs": [
    {
     "data": {
      "image/png": "[encoded data removed]",
      "text/plain": [
       "<Figure size 640x480 with 25 Axes>"
      ]
     },
     "metadata": {},
     "output_type": "display_data"
    }
   ],
   "source": [
    "figure();\n",
    "plate.plot(['FSC-A'], bins=100);"
   ]
  },
  {
   "cell_type": "markdown",
   "metadata": {},
   "source": [
    "#### Side Scatter Area (SSC-A)"
   ]
  },
  {
   "cell_type": "code",
   "execution_count": 101,
   "metadata": {},
   "outputs": [
    {
     "data": {
      "image/png": "[encoded data removed]",
      "text/plain": [
       "<Figure size 640x480 with 25 Axes>"
      ]
     },
     "metadata": {},
     "output_type": "display_data"
    }
   ],
   "source": [
    "figure();\n",
    "plate.plot(['SSC-A'], bins=100);"
   ]
  },
  {
   "cell_type": "markdown",
   "metadata": {},
   "source": [
    "#### FSC-A and SSC-A"
   ]
  },
  {
   "cell_type": "code",
   "execution_count": 102,
   "metadata": {},
   "outputs": [
    {
     "data": {
      "image/png": "[encoded data removed]",
      "text/plain": [
       "<Figure size 640x480 with 25 Axes>"
      ]
     },
     "metadata": {},
     "output_type": "display_data"
    }
   ],
   "source": [
    "figure();\n",
    "plate.plot(['FSC-A', 'SSC-A'], bins=100, wspace=0.2, hspace=0.2);"
   ]
  },
  {
   "cell_type": "markdown",
   "metadata": {},
   "source": [
    "## Load Standards"
   ]
  }
 ],
 "metadata": {
  "kernelspec": {
   "display_name": "cytoflow-env",
   "language": "python",
   "name": "python3"
  },
  "language_info": {
   "codemirror_mode": {
    "name": "ipython",
    "version": 3
   },
   "file_extension": ".py",
   "mimetype": "text/x-python",
   "name": "python",
   "nbconvert_exporter": "python",
   "pygments_lexer": "ipython3",
   "version": "3.8.12"
  }
 },
 "nbformat": 4,
 "nbformat_minor": 2
}

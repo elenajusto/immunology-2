{
 "cells": [
  {
   "cell_type": "code",
   "execution_count": null,
   "metadata": {},
   "outputs": [
    {
     "ename": "",
     "evalue": "",
     "output_type": "error",
     "traceback": [
      "\u001b[1;31mRunning cells with 'Python 3.12.3' requires the ipykernel package.\n",
      "\u001b[1;31mRun the following command to install 'ipykernel' into the Python environment. \n",
      "\u001b[1;31mCommand: '/bin/python3 -m pip install ipykernel -U --user --force-reinstall'"
     ]
    }
   ],
   "source": [
    "import os\n",
    "from FlowCytometryTools import FCMeasurement\n",
    "import matplotlib.pyplot as plt"
   ]
  },
  {
   "cell_type": "code",
   "execution_count": null,
   "metadata": {},
   "outputs": [],
   "source": [
    "# Directory containing FCS files\n",
    "fcs_directory = 'path_to_your_fcs_directory'  # Replace with the correct path\n",
    "fcs_files = [f for f in os.listdir(fcs_directory) if f.endswith('.fcs')]\n",
    "\n",
    "# Function to load and plot data from an FCS file\n",
    "def analyze_fcs_file(file_path):\n",
    "    # Load the FCS file\n",
    "    sample = FCMeasurement(ID='Sample', datafile=file_path)\n",
    "    \n",
    "    # Extract data\n",
    "    data = sample.data\n",
    "    \n",
    "    # Display first few rows of the data (optional)\n",
    "    print(f\"First few rows of data from {file_path}:\")\n",
    "    print(data.head())\n",
    "    \n",
    "    # Plot Forward Scatter (FSC-A) vs Side Scatter (SSC-A)\n",
    "    plt.figure()\n",
    "    sample.plot(['FSC-A', 'SSC-A'])\n",
    "    plt.title(f'FSC-A vs SSC-A: {os.path.basename(file_path)}')\n",
    "    plt.show()\n",
    "\n",
    "# Loop through all FCS files and analyze\n",
    "for fcs_file in fcs_files:\n",
    "    file_path = os.path.join(fcs_directory, fcs_file)\n",
    "    analyze_fcs_file(file_path)"
   ]
  }
 ],
 "metadata": {
  "kernelspec": {
   "display_name": "base",
   "language": "python",
   "name": "python3"
  },
  "language_info": {
   "codemirror_mode": {
    "name": "ipython",
    "version": 3
   },
   "file_extension": ".py",
   "mimetype": "text/x-python",
   "name": "python",
   "nbconvert_exporter": "python",
   "pygments_lexer": "ipython3",
   "version": "3.12.3"
  }
 },
 "nbformat": 4,
 "nbformat_minor": 2
}

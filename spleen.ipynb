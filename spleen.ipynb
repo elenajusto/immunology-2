{
 "cells": [
  {
   "cell_type": "code",
   "execution_count": 8,
   "metadata": {},
   "outputs": [
    {
     "name": "stderr",
     "output_type": "stream",
     "text": [
      "/home/elena/repos/immunology-2/immunology-2/lib/python3.12/site-packages/FlowCytometryTools/core/bases.py:45: SyntaxWarning: invalid escape sequence '\\.'\n",
      "  kwargs.setdefault('post', ['_', '\\.', '$'])\n",
      "/home/elena/repos/immunology-2/immunology-2/lib/python3.12/site-packages/FlowCytometryTools/core/bases.py:45: SyntaxWarning: invalid escape sequence '\\.'\n",
      "  kwargs.setdefault('post', ['_', '\\.', '$'])\n"
     ]
    },
    {
     "ename": "NameError",
     "evalue": "name 'collections' is not defined",
     "output_type": "error",
     "traceback": [
      "\u001b[0;31m---------------------------------------------------------------------------\u001b[0m",
      "\u001b[0;31mNameError\u001b[0m                                 Traceback (most recent call last)",
      "Cell \u001b[0;32mIn[8], line 1\u001b[0m\n\u001b[0;32m----> 1\u001b[0m \u001b[38;5;28;01mimport\u001b[39;00m \u001b[38;5;21;01mFlowCytometryTools\u001b[39;00m\n\u001b[1;32m      2\u001b[0m \u001b[38;5;28;01mfrom\u001b[39;00m \u001b[38;5;21;01mFlowCytometryTools\u001b[39;00m \u001b[38;5;28;01mimport\u001b[39;00m test_data_dir, test_data_file\n",
      "File \u001b[0;32m~/repos/immunology-2/immunology-2/lib/python3.12/site-packages/FlowCytometryTools/__init__.py:8\u001b[0m\n\u001b[1;32m      4\u001b[0m \u001b[38;5;28;01mfrom\u001b[39;00m \u001b[38;5;21;01mFlowCytometryTools\u001b[39;00m\u001b[38;5;21;01m.\u001b[39;00m\u001b[38;5;21;01m_doc\u001b[39;00m \u001b[38;5;28;01mimport\u001b[39;00m \u001b[38;5;18m__doc__\u001b[39m\n\u001b[1;32m      6\u001b[0m \u001b[38;5;28;01mfrom\u001b[39;00m \u001b[38;5;21;01mfcsparser\u001b[39;00m\u001b[38;5;21;01m.\u001b[39;00m\u001b[38;5;21;01mapi\u001b[39;00m \u001b[38;5;28;01mimport\u001b[39;00m parse \u001b[38;5;28;01mas\u001b[39;00m parse_fcs\n\u001b[0;32m----> 8\u001b[0m \u001b[38;5;28;01mfrom\u001b[39;00m \u001b[38;5;21;01mFlowCytometryTools\u001b[39;00m\u001b[38;5;21;01m.\u001b[39;00m\u001b[38;5;21;01mcore\u001b[39;00m\u001b[38;5;21;01m.\u001b[39;00m\u001b[38;5;21;01mcontainers\u001b[39;00m \u001b[38;5;28;01mimport\u001b[39;00m (FCMeasurement, FCCollection, FCOrderedCollection,\n\u001b[1;32m      9\u001b[0m                                                 FCPlate)\n\u001b[1;32m     10\u001b[0m \u001b[38;5;28;01mfrom\u001b[39;00m \u001b[38;5;21;01mFlowCytometryTools\u001b[39;00m\u001b[38;5;21;01m.\u001b[39;00m\u001b[38;5;21;01mcore\u001b[39;00m\u001b[38;5;21;01m.\u001b[39;00m\u001b[38;5;21;01mgates\u001b[39;00m \u001b[38;5;28;01mimport\u001b[39;00m ThresholdGate, IntervalGate, QuadGate, PolyGate\n\u001b[1;32m     11\u001b[0m \u001b[38;5;28;01mimport\u001b[39;00m \u001b[38;5;21;01mFlowCytometryTools\u001b[39;00m\u001b[38;5;21;01m.\u001b[39;00m\u001b[38;5;21;01mcore\u001b[39;00m\u001b[38;5;21;01m.\u001b[39;00m\u001b[38;5;21;01mgraph\u001b[39;00m \u001b[38;5;28;01mas\u001b[39;00m \u001b[38;5;21;01mgraph\u001b[39;00m\n",
      "File \u001b[0;32m~/repos/immunology-2/immunology-2/lib/python3.12/site-packages/FlowCytometryTools/core/containers.py:15\u001b[0m\n\u001b[1;32m     12\u001b[0m \u001b[38;5;28;01mfrom\u001b[39;00m \u001b[38;5;21;01mpandas\u001b[39;00m \u001b[38;5;28;01mimport\u001b[39;00m DataFrame\n\u001b[1;32m     14\u001b[0m \u001b[38;5;28;01mimport\u001b[39;00m \u001b[38;5;21;01mFlowCytometryTools\u001b[39;00m\u001b[38;5;21;01m.\u001b[39;00m\u001b[38;5;21;01mcore\u001b[39;00m\u001b[38;5;21;01m.\u001b[39;00m\u001b[38;5;21;01mgraph\u001b[39;00m \u001b[38;5;28;01mas\u001b[39;00m \u001b[38;5;21;01mgraph\u001b[39;00m\n\u001b[0;32m---> 15\u001b[0m \u001b[38;5;28;01mfrom\u001b[39;00m \u001b[38;5;21;01mFlowCytometryTools\u001b[39;00m\u001b[38;5;21;01m.\u001b[39;00m\u001b[38;5;21;01mcore\u001b[39;00m\u001b[38;5;21;01m.\u001b[39;00m\u001b[38;5;21;01mbases\u001b[39;00m \u001b[38;5;28;01mimport\u001b[39;00m (Measurement, MeasurementCollection, OrderedCollection,\n\u001b[1;32m     16\u001b[0m                                            queueable)\n\u001b[1;32m     17\u001b[0m \u001b[38;5;28;01mfrom\u001b[39;00m \u001b[38;5;21;01mFlowCytometryTools\u001b[39;00m\u001b[38;5;21;01m.\u001b[39;00m\u001b[38;5;21;01mcore\u001b[39;00m\u001b[38;5;21;01m.\u001b[39;00m\u001b[38;5;21;01mcommon_doc\u001b[39;00m \u001b[38;5;28;01mimport\u001b[39;00m doc_replacer\n\u001b[1;32m     18\u001b[0m \u001b[38;5;28;01mfrom\u001b[39;00m \u001b[38;5;21;01mFlowCytometryTools\u001b[39;00m\u001b[38;5;21;01m.\u001b[39;00m\u001b[38;5;21;01mcore\u001b[39;00m\u001b[38;5;21;01m.\u001b[39;00m\u001b[38;5;21;01mgraph\u001b[39;00m \u001b[38;5;28;01mimport\u001b[39;00m plot_ndpanel\n",
      "File \u001b[0;32m~/repos/immunology-2/immunology-2/lib/python3.12/site-packages/FlowCytometryTools/core/bases.py:356\u001b[0m\n\u001b[1;32m    353\u001b[0m \u001b[38;5;66;03m#import collections\u001b[39;00m\n\u001b[1;32m    354\u001b[0m \u001b[38;5;28;01mfrom\u001b[39;00m \u001b[38;5;21;01mcollections\u001b[39;00m\u001b[38;5;21;01m.\u001b[39;00m\u001b[38;5;21;01mabc\u001b[39;00m \u001b[38;5;28;01mimport\u001b[39;00m MutableMapping\n\u001b[0;32m--> 356\u001b[0m \u001b[38;5;28;01mclass\u001b[39;00m \u001b[38;5;21;01mMeasurementCollection\u001b[39;00m(\u001b[43mcollections\u001b[49m\u001b[38;5;241m.\u001b[39mMutableMapping, BaseObject):\n\u001b[1;32m    357\u001b[0m \u001b[38;5;250m    \u001b[39m\u001b[38;5;124;03m\"\"\"\u001b[39;00m\n\u001b[1;32m    358\u001b[0m \u001b[38;5;124;03m    A collection of measurements\u001b[39;00m\n\u001b[1;32m    359\u001b[0m \u001b[38;5;124;03m    \"\"\"\u001b[39;00m\n\u001b[1;32m    360\u001b[0m     _measurement_class \u001b[38;5;241m=\u001b[39m Measurement  \u001b[38;5;66;03m# to be replaced when inheriting\u001b[39;00m\n",
      "\u001b[0;31mNameError\u001b[0m: name 'collections' is not defined"
     ]
    }
   ],
   "source": [
    "import FlowCytometryTools\n",
    "from FlowCytometryTools import test_data_dir, test_data_file"
   ]
  },
  {
   "cell_type": "code",
   "execution_count": null,
   "metadata": {},
   "outputs": [],
   "source": [
    "# Directory containing FCS files\n",
    "fcs_directory = 'path_to_your_fcs_directory'  # Replace with the correct path\n",
    "fcs_files = [f for f in os.listdir(fcs_directory) if f.endswith('.fcs')]\n",
    "\n",
    "# Function to load and plot data from an FCS file\n",
    "def analyze_fcs_file(file_path):\n",
    "    # Load the FCS file\n",
    "    sample = FCMeasurement(ID='Sample', datafile=file_path)\n",
    "    \n",
    "    # Extract data\n",
    "    data = sample.data\n",
    "    \n",
    "    # Display first few rows of the data (optional)\n",
    "    print(f\"First few rows of data from {file_path}:\")\n",
    "    print(data.head())\n",
    "    \n",
    "    # Plot Forward Scatter (FSC-A) vs Side Scatter (SSC-A)\n",
    "    plt.figure()\n",
    "    sample.plot(['FSC-A', 'SSC-A'])\n",
    "    plt.title(f'FSC-A vs SSC-A: {os.path.basename(file_path)}')\n",
    "    plt.show()\n",
    "\n",
    "# Loop through all FCS files and analyze\n",
    "for fcs_file in fcs_files:\n",
    "    file_path = os.path.join(fcs_directory, fcs_file)\n",
    "    analyze_fcs_file(file_path)"
   ]
  }
 ],
 "metadata": {
  "kernelspec": {
   "display_name": "base",
   "language": "python",
   "name": "python3"
  },
  "language_info": {
   "codemirror_mode": {
    "name": "ipython",
    "version": 3
   },
   "file_extension": ".py",
   "mimetype": "text/x-python",
   "name": "python",
   "nbconvert_exporter": "python",
   "pygments_lexer": "ipython3",
   "version": "3.12.3"
  }
 },
 "nbformat": 4,
 "nbformat_minor": 2
}
